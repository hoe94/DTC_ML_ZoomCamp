{
 "cells": [
  {
   "cell_type": "code",
   "execution_count": 1,
   "id": "c19c5184",
   "metadata": {
    "scrolled": true
   },
   "outputs": [
    {
     "name": "stdout",
     "output_type": "stream",
     "text": [
      "Collecting xgboost\n",
      "  Using cached xgboost-1.6.2-py3-none-win_amd64.whl (125.4 MB)\n",
      "Requirement already satisfied: scipy in c:\\users\\hoe\\anaconda3\\envs\\ml-zoomcamp\\lib\\site-packages (from xgboost) (1.9.1)\n",
      "Requirement already satisfied: numpy in c:\\users\\hoe\\anaconda3\\envs\\ml-zoomcamp\\lib\\site-packages (from xgboost) (1.23.3)\n",
      "Installing collected packages: xgboost\n",
      "Successfully installed xgboost-1.6.2\n"
     ]
    }
   ],
   "source": [
    "!pip install xgboost"
   ]
  },
  {
   "cell_type": "code",
   "execution_count": 4,
   "id": "fb9daf1a",
   "metadata": {},
   "outputs": [
    {
     "name": "stdout",
     "output_type": "stream",
     "text": [
      "Collecting pandas\n",
      "  Using cached pandas-1.5.1-cp310-cp310-win_amd64.whl (10.4 MB)\n",
      "Requirement already satisfied: scikit-learn in c:\\users\\hoe\\anaconda3\\envs\\ml-zoomcamp\\lib\\site-packages (1.1.2)\n",
      "Requirement already satisfied: numpy>=1.21.0 in c:\\users\\hoe\\anaconda3\\envs\\ml-zoomcamp\\lib\\site-packages (from pandas) (1.23.3)\n",
      "Requirement already satisfied: pytz>=2020.1 in c:\\users\\hoe\\anaconda3\\envs\\ml-zoomcamp\\lib\\site-packages (from pandas) (2022.5)\n",
      "Requirement already satisfied: python-dateutil>=2.8.1 in c:\\users\\hoe\\anaconda3\\envs\\ml-zoomcamp\\lib\\site-packages (from pandas) (2.8.2)\n",
      "Requirement already satisfied: threadpoolctl>=2.0.0 in c:\\users\\hoe\\anaconda3\\envs\\ml-zoomcamp\\lib\\site-packages (from scikit-learn) (2.2.0)\n",
      "Requirement already satisfied: scipy>=1.3.2 in c:\\users\\hoe\\anaconda3\\envs\\ml-zoomcamp\\lib\\site-packages (from scikit-learn) (1.9.1)\n",
      "Requirement already satisfied: joblib>=1.0.0 in c:\\users\\hoe\\anaconda3\\envs\\ml-zoomcamp\\lib\\site-packages (from scikit-learn) (1.1.0)\n",
      "Requirement already satisfied: six>=1.5 in c:\\users\\hoe\\anaconda3\\envs\\ml-zoomcamp\\lib\\site-packages (from python-dateutil>=2.8.1->pandas) (1.16.0)\n",
      "Installing collected packages: pandas\n",
      "Successfully installed pandas-1.5.1\n"
     ]
    }
   ],
   "source": [
    "!pip install pandas scikit-learn"
   ]
  },
  {
   "cell_type": "code",
   "execution_count": 5,
   "id": "7fd2e4fa",
   "metadata": {},
   "outputs": [],
   "source": [
    "import pandas as pd\n",
    "import numpy as np\n",
    "\n",
    "from sklearn.model_selection import train_test_split\n",
    "from sklearn.feature_extraction import DictVectorizer\n",
    "\n",
    "from sklearn.ensemble import RandomForestClassifier\n",
    "\n",
    "import xgboost as xgb"
   ]
  },
  {
   "cell_type": "markdown",
   "id": "b9f980f8",
   "metadata": {},
   "source": [
    "### Data preparation"
   ]
  },
  {
   "cell_type": "code",
   "execution_count": 6,
   "id": "ab7345e7",
   "metadata": {},
   "outputs": [],
   "source": [
    "data = 'https://raw.githubusercontent.com/alexeygrigorev/mlbookcamp-code/master/chapter-06-trees/CreditScoring.csv'\n",
    "df = pd.read_csv(data)"
   ]
  },
  {
   "cell_type": "code",
   "execution_count": 7,
   "id": "70dceaaa",
   "metadata": {},
   "outputs": [
    {
     "data": {
      "text/html": [
       "<div>\n",
       "<style scoped>\n",
       "    .dataframe tbody tr th:only-of-type {\n",
       "        vertical-align: middle;\n",
       "    }\n",
       "\n",
       "    .dataframe tbody tr th {\n",
       "        vertical-align: top;\n",
       "    }\n",
       "\n",
       "    .dataframe thead th {\n",
       "        text-align: right;\n",
       "    }\n",
       "</style>\n",
       "<table border=\"1\" class=\"dataframe\">\n",
       "  <thead>\n",
       "    <tr style=\"text-align: right;\">\n",
       "      <th></th>\n",
       "      <th>Status</th>\n",
       "      <th>Seniority</th>\n",
       "      <th>Home</th>\n",
       "      <th>Time</th>\n",
       "      <th>Age</th>\n",
       "      <th>Marital</th>\n",
       "      <th>Records</th>\n",
       "      <th>Job</th>\n",
       "      <th>Expenses</th>\n",
       "      <th>Income</th>\n",
       "      <th>Assets</th>\n",
       "      <th>Debt</th>\n",
       "      <th>Amount</th>\n",
       "      <th>Price</th>\n",
       "    </tr>\n",
       "  </thead>\n",
       "  <tbody>\n",
       "    <tr>\n",
       "      <th>0</th>\n",
       "      <td>1</td>\n",
       "      <td>9</td>\n",
       "      <td>1</td>\n",
       "      <td>60</td>\n",
       "      <td>30</td>\n",
       "      <td>2</td>\n",
       "      <td>1</td>\n",
       "      <td>3</td>\n",
       "      <td>73</td>\n",
       "      <td>129</td>\n",
       "      <td>0</td>\n",
       "      <td>0</td>\n",
       "      <td>800</td>\n",
       "      <td>846</td>\n",
       "    </tr>\n",
       "    <tr>\n",
       "      <th>1</th>\n",
       "      <td>1</td>\n",
       "      <td>17</td>\n",
       "      <td>1</td>\n",
       "      <td>60</td>\n",
       "      <td>58</td>\n",
       "      <td>3</td>\n",
       "      <td>1</td>\n",
       "      <td>1</td>\n",
       "      <td>48</td>\n",
       "      <td>131</td>\n",
       "      <td>0</td>\n",
       "      <td>0</td>\n",
       "      <td>1000</td>\n",
       "      <td>1658</td>\n",
       "    </tr>\n",
       "    <tr>\n",
       "      <th>2</th>\n",
       "      <td>2</td>\n",
       "      <td>10</td>\n",
       "      <td>2</td>\n",
       "      <td>36</td>\n",
       "      <td>46</td>\n",
       "      <td>2</td>\n",
       "      <td>2</td>\n",
       "      <td>3</td>\n",
       "      <td>90</td>\n",
       "      <td>200</td>\n",
       "      <td>3000</td>\n",
       "      <td>0</td>\n",
       "      <td>2000</td>\n",
       "      <td>2985</td>\n",
       "    </tr>\n",
       "    <tr>\n",
       "      <th>3</th>\n",
       "      <td>1</td>\n",
       "      <td>0</td>\n",
       "      <td>1</td>\n",
       "      <td>60</td>\n",
       "      <td>24</td>\n",
       "      <td>1</td>\n",
       "      <td>1</td>\n",
       "      <td>1</td>\n",
       "      <td>63</td>\n",
       "      <td>182</td>\n",
       "      <td>2500</td>\n",
       "      <td>0</td>\n",
       "      <td>900</td>\n",
       "      <td>1325</td>\n",
       "    </tr>\n",
       "    <tr>\n",
       "      <th>4</th>\n",
       "      <td>1</td>\n",
       "      <td>0</td>\n",
       "      <td>1</td>\n",
       "      <td>36</td>\n",
       "      <td>26</td>\n",
       "      <td>1</td>\n",
       "      <td>1</td>\n",
       "      <td>1</td>\n",
       "      <td>46</td>\n",
       "      <td>107</td>\n",
       "      <td>0</td>\n",
       "      <td>0</td>\n",
       "      <td>310</td>\n",
       "      <td>910</td>\n",
       "    </tr>\n",
       "  </tbody>\n",
       "</table>\n",
       "</div>"
      ],
      "text/plain": [
       "   Status  Seniority  Home  Time  Age  Marital  Records  Job  Expenses  \\\n",
       "0       1          9     1    60   30        2        1    3        73   \n",
       "1       1         17     1    60   58        3        1    1        48   \n",
       "2       2         10     2    36   46        2        2    3        90   \n",
       "3       1          0     1    60   24        1        1    1        63   \n",
       "4       1          0     1    36   26        1        1    1        46   \n",
       "\n",
       "   Income  Assets  Debt  Amount  Price  \n",
       "0     129       0     0     800    846  \n",
       "1     131       0     0    1000   1658  \n",
       "2     200    3000     0    2000   2985  \n",
       "3     182    2500     0     900   1325  \n",
       "4     107       0     0     310    910  "
      ]
     },
     "execution_count": 7,
     "metadata": {},
     "output_type": "execute_result"
    }
   ],
   "source": [
    "df.head()"
   ]
  },
  {
   "cell_type": "code",
   "execution_count": 8,
   "id": "cce28103",
   "metadata": {},
   "outputs": [],
   "source": [
    "df.columns = df.columns.str.lower()\n",
    "\n",
    "status_values = {\n",
    "    1: 'ok',\n",
    "    2: 'default',\n",
    "    0: 'unk'\n",
    "}\n",
    "\n",
    "df.status = df.status.map(status_values)\n",
    "\n",
    "home_values = {\n",
    "    1: 'rent',\n",
    "    2: 'owner',\n",
    "    3: 'private',\n",
    "    4: 'ignore',\n",
    "    5: 'parents',\n",
    "    6: 'other',\n",
    "    0: 'unk'\n",
    "}\n",
    "\n",
    "df.home = df.home.map(home_values)\n",
    "\n",
    "marital_values = {\n",
    "    1: 'single',\n",
    "    2: 'married',\n",
    "    3: 'widow',\n",
    "    4: 'separated',\n",
    "    5: 'divorced',\n",
    "    0: 'unk'\n",
    "}\n",
    "\n",
    "df.marital = df.marital.map(marital_values)\n",
    "\n",
    "records_values = {\n",
    "    1: 'no',\n",
    "    2: 'yes',\n",
    "    0: 'unk'\n",
    "}\n",
    "\n",
    "df.records = df.records.map(records_values)\n",
    "\n",
    "job_values = {\n",
    "    1: 'fixed',\n",
    "    2: 'partime',\n",
    "    3: 'freelance',\n",
    "    4: 'others',\n",
    "    0: 'unk'\n",
    "}\n",
    "\n",
    "df.job = df.job.map(job_values)\n",
    "\n",
    "for c in ['income', 'assets', 'debt']:\n",
    "    df[c] = df[c].replace(to_replace=99999999, value=np.nan)\n",
    "\n",
    "df = df[df.status != 'unk'].reset_index(drop=True)"
   ]
  },
  {
   "cell_type": "code",
   "execution_count": 9,
   "id": "b8f2f6b6",
   "metadata": {},
   "outputs": [],
   "source": [
    "df_train, df_test = train_test_split(df, test_size=0.2, random_state=11)\n",
    "\n",
    "df_train = df_train.reset_index(drop=True)\n",
    "df_test = df_test.reset_index(drop=True)\n",
    "\n",
    "y_train = (df_train.status == 'default').astype('int').values\n",
    "y_test = (df_test.status == 'default').astype('int').values\n",
    "\n",
    "del df_train['status']\n",
    "del df_test['status']"
   ]
  },
  {
   "cell_type": "code",
   "execution_count": 10,
   "id": "768dc757",
   "metadata": {},
   "outputs": [],
   "source": [
    "dv = DictVectorizer(sparse=False)\n",
    "\n",
    "train_dicts = df_train.fillna(0).to_dict(orient='records')\n",
    "X_train = dv.fit_transform(train_dicts)\n",
    "\n",
    "test_dicts = df_test.fillna(0).to_dict(orient='records')\n",
    "X_test = dv.transform(test_dicts)"
   ]
  },
  {
   "cell_type": "markdown",
   "id": "b4d38f55",
   "metadata": {},
   "source": [
    "### Random forest"
   ]
  },
  {
   "cell_type": "code",
   "execution_count": 11,
   "id": "7c816ac8",
   "metadata": {},
   "outputs": [
    {
     "data": {
      "text/html": [
       "<style>#sk-container-id-1 {color: black;background-color: white;}#sk-container-id-1 pre{padding: 0;}#sk-container-id-1 div.sk-toggleable {background-color: white;}#sk-container-id-1 label.sk-toggleable__label {cursor: pointer;display: block;width: 100%;margin-bottom: 0;padding: 0.3em;box-sizing: border-box;text-align: center;}#sk-container-id-1 label.sk-toggleable__label-arrow:before {content: \"▸\";float: left;margin-right: 0.25em;color: #696969;}#sk-container-id-1 label.sk-toggleable__label-arrow:hover:before {color: black;}#sk-container-id-1 div.sk-estimator:hover label.sk-toggleable__label-arrow:before {color: black;}#sk-container-id-1 div.sk-toggleable__content {max-height: 0;max-width: 0;overflow: hidden;text-align: left;background-color: #f0f8ff;}#sk-container-id-1 div.sk-toggleable__content pre {margin: 0.2em;color: black;border-radius: 0.25em;background-color: #f0f8ff;}#sk-container-id-1 input.sk-toggleable__control:checked~div.sk-toggleable__content {max-height: 200px;max-width: 100%;overflow: auto;}#sk-container-id-1 input.sk-toggleable__control:checked~label.sk-toggleable__label-arrow:before {content: \"▾\";}#sk-container-id-1 div.sk-estimator input.sk-toggleable__control:checked~label.sk-toggleable__label {background-color: #d4ebff;}#sk-container-id-1 div.sk-label input.sk-toggleable__control:checked~label.sk-toggleable__label {background-color: #d4ebff;}#sk-container-id-1 input.sk-hidden--visually {border: 0;clip: rect(1px 1px 1px 1px);clip: rect(1px, 1px, 1px, 1px);height: 1px;margin: -1px;overflow: hidden;padding: 0;position: absolute;width: 1px;}#sk-container-id-1 div.sk-estimator {font-family: monospace;background-color: #f0f8ff;border: 1px dotted black;border-radius: 0.25em;box-sizing: border-box;margin-bottom: 0.5em;}#sk-container-id-1 div.sk-estimator:hover {background-color: #d4ebff;}#sk-container-id-1 div.sk-parallel-item::after {content: \"\";width: 100%;border-bottom: 1px solid gray;flex-grow: 1;}#sk-container-id-1 div.sk-label:hover label.sk-toggleable__label {background-color: #d4ebff;}#sk-container-id-1 div.sk-serial::before {content: \"\";position: absolute;border-left: 1px solid gray;box-sizing: border-box;top: 0;bottom: 0;left: 50%;z-index: 0;}#sk-container-id-1 div.sk-serial {display: flex;flex-direction: column;align-items: center;background-color: white;padding-right: 0.2em;padding-left: 0.2em;position: relative;}#sk-container-id-1 div.sk-item {position: relative;z-index: 1;}#sk-container-id-1 div.sk-parallel {display: flex;align-items: stretch;justify-content: center;background-color: white;position: relative;}#sk-container-id-1 div.sk-item::before, #sk-container-id-1 div.sk-parallel-item::before {content: \"\";position: absolute;border-left: 1px solid gray;box-sizing: border-box;top: 0;bottom: 0;left: 50%;z-index: -1;}#sk-container-id-1 div.sk-parallel-item {display: flex;flex-direction: column;z-index: 1;position: relative;background-color: white;}#sk-container-id-1 div.sk-parallel-item:first-child::after {align-self: flex-end;width: 50%;}#sk-container-id-1 div.sk-parallel-item:last-child::after {align-self: flex-start;width: 50%;}#sk-container-id-1 div.sk-parallel-item:only-child::after {width: 0;}#sk-container-id-1 div.sk-dashed-wrapped {border: 1px dashed gray;margin: 0 0.4em 0.5em 0.4em;box-sizing: border-box;padding-bottom: 0.4em;background-color: white;}#sk-container-id-1 div.sk-label label {font-family: monospace;font-weight: bold;display: inline-block;line-height: 1.2em;}#sk-container-id-1 div.sk-label-container {text-align: center;}#sk-container-id-1 div.sk-container {/* jupyter's `normalize.less` sets `[hidden] { display: none; }` but bootstrap.min.css set `[hidden] { display: none !important; }` so we also need the `!important` here to be able to override the default hidden behavior on the sphinx rendered scikit-learn.org. See: https://github.com/scikit-learn/scikit-learn/issues/21755 */display: inline-block !important;position: relative;}#sk-container-id-1 div.sk-text-repr-fallback {display: none;}</style><div id=\"sk-container-id-1\" class=\"sk-top-container\"><div class=\"sk-text-repr-fallback\"><pre>RandomForestClassifier(max_depth=10, min_samples_leaf=3, n_estimators=200,\n",
       "                       random_state=1)</pre><b>In a Jupyter environment, please rerun this cell to show the HTML representation or trust the notebook. <br />On GitHub, the HTML representation is unable to render, please try loading this page with nbviewer.org.</b></div><div class=\"sk-container\" hidden><div class=\"sk-item\"><div class=\"sk-estimator sk-toggleable\"><input class=\"sk-toggleable__control sk-hidden--visually\" id=\"sk-estimator-id-1\" type=\"checkbox\" checked><label for=\"sk-estimator-id-1\" class=\"sk-toggleable__label sk-toggleable__label-arrow\">RandomForestClassifier</label><div class=\"sk-toggleable__content\"><pre>RandomForestClassifier(max_depth=10, min_samples_leaf=3, n_estimators=200,\n",
       "                       random_state=1)</pre></div></div></div></div></div>"
      ],
      "text/plain": [
       "RandomForestClassifier(max_depth=10, min_samples_leaf=3, n_estimators=200,\n",
       "                       random_state=1)"
      ]
     },
     "execution_count": 11,
     "metadata": {},
     "output_type": "execute_result"
    }
   ],
   "source": [
    "rf = RandomForestClassifier(n_estimators=200,\n",
    "                            max_depth=10,\n",
    "                            min_samples_leaf=3,\n",
    "                            random_state=1)\n",
    "rf.fit(X_train, y_train)"
   ]
  },
  {
   "cell_type": "markdown",
   "id": "d93c2472",
   "metadata": {},
   "source": [
    "### Question 1\n",
    "\n",
    "\n",
    "* Install BentoML\n",
    "* What's the version of BentoML you installed?\n",
    "* Use --version to find out"
   ]
  },
  {
   "cell_type": "code",
   "execution_count": 12,
   "id": "9a517e5f",
   "metadata": {},
   "outputs": [
    {
     "name": "stdout",
     "output_type": "stream",
     "text": [
      "Requirement already satisfied: bentoml in c:\\users\\hoe\\anaconda3\\envs\\ml-zoomcamp\\lib\\site-packages (1.0.0)\n",
      "Requirement already satisfied: circus in c:\\users\\hoe\\anaconda3\\envs\\ml-zoomcamp\\lib\\site-packages (from bentoml) (0.17.1)\n",
      "Requirement already satisfied: typing-extensions>=4.0 in c:\\users\\hoe\\anaconda3\\envs\\ml-zoomcamp\\lib\\site-packages (from bentoml) (4.4.0)\n",
      "Requirement already satisfied: pathspec in c:\\users\\hoe\\anaconda3\\envs\\ml-zoomcamp\\lib\\site-packages (from bentoml) (0.10.1)\n",
      "Requirement already satisfied: pynvml<12 in c:\\users\\hoe\\anaconda3\\envs\\ml-zoomcamp\\lib\\site-packages (from bentoml) (11.4.1)\n",
      "Requirement already satisfied: fs in c:\\users\\hoe\\anaconda3\\envs\\ml-zoomcamp\\lib\\site-packages (from bentoml) (2.4.15)\n",
      "Requirement already satisfied: opentelemetry-instrumentation==0.28b0 in c:\\users\\hoe\\anaconda3\\envs\\ml-zoomcamp\\lib\\site-packages (from bentoml) (0.28b0)\n",
      "Requirement already satisfied: packaging>=20.0 in c:\\users\\hoe\\anaconda3\\envs\\ml-zoomcamp\\lib\\site-packages (from bentoml) (21.3)\n",
      "Requirement already satisfied: psutil in c:\\users\\hoe\\anaconda3\\envs\\ml-zoomcamp\\lib\\site-packages (from bentoml) (5.9.1)\n",
      "Requirement already satisfied: starlette in c:\\users\\hoe\\anaconda3\\envs\\ml-zoomcamp\\lib\\site-packages (from bentoml) (0.21.0)\n",
      "Requirement already satisfied: requests in c:\\users\\hoe\\anaconda3\\envs\\ml-zoomcamp\\lib\\site-packages (from bentoml) (2.28.1)\n",
      "Requirement already satisfied: filelock in c:\\users\\hoe\\anaconda3\\envs\\ml-zoomcamp\\lib\\site-packages (from bentoml) (3.8.0)\n",
      "Requirement already satisfied: attrs>=21.1.0 in c:\\users\\hoe\\anaconda3\\envs\\ml-zoomcamp\\lib\\site-packages (from bentoml) (22.1.0)\n",
      "Requirement already satisfied: pip-tools>=6.6.2 in c:\\users\\hoe\\anaconda3\\envs\\ml-zoomcamp\\lib\\site-packages (from bentoml) (6.6.2)\n",
      "Requirement already satisfied: rich>=11.2.0 in c:\\users\\hoe\\anaconda3\\envs\\ml-zoomcamp\\lib\\site-packages (from bentoml) (12.6.0)\n",
      "Requirement already satisfied: chardet in c:\\users\\hoe\\anaconda3\\envs\\ml-zoomcamp\\lib\\site-packages (from bentoml) (5.0.0)\n",
      "Requirement already satisfied: aiofiles in c:\\users\\hoe\\anaconda3\\envs\\ml-zoomcamp\\lib\\site-packages (from bentoml) (22.1.0)\n",
      "Requirement already satisfied: python-json-logger in c:\\users\\hoe\\anaconda3\\envs\\ml-zoomcamp\\lib\\site-packages (from bentoml) (2.0.1)\n",
      "Requirement already satisfied: click>=7.0 in c:\\users\\hoe\\anaconda3\\envs\\ml-zoomcamp\\lib\\site-packages (from bentoml) (8.1.3)\n",
      "Requirement already satisfied: Jinja2>=3.0.1 in c:\\users\\hoe\\anaconda3\\envs\\ml-zoomcamp\\lib\\site-packages (from bentoml) (3.1.2)\n",
      "Requirement already satisfied: opentelemetry-instrumentation-asgi==0.28b0 in c:\\users\\hoe\\anaconda3\\envs\\ml-zoomcamp\\lib\\site-packages (from bentoml) (0.28b0)\n",
      "Requirement already satisfied: cattrs>=21.1.0 in c:\\users\\hoe\\anaconda3\\envs\\ml-zoomcamp\\lib\\site-packages (from bentoml) (22.2.0)\n",
      "Requirement already satisfied: python-multipart in c:\\users\\hoe\\anaconda3\\envs\\ml-zoomcamp\\lib\\site-packages (from bentoml) (0.0.5)\n",
      "Requirement already satisfied: opentelemetry-instrumentation-aiohttp-client==0.28b0 in c:\\users\\hoe\\anaconda3\\envs\\ml-zoomcamp\\lib\\site-packages (from bentoml) (0.28b0)\n",
      "Requirement already satisfied: prometheus-client<0.14.0,>=0.10.0 in c:\\users\\hoe\\anaconda3\\envs\\ml-zoomcamp\\lib\\site-packages (from bentoml) (0.13.1)\n",
      "Requirement already satisfied: python-dateutil in c:\\users\\hoe\\anaconda3\\envs\\ml-zoomcamp\\lib\\site-packages (from bentoml) (2.8.2)\n",
      "Requirement already satisfied: cloudpickle in c:\\users\\hoe\\anaconda3\\envs\\ml-zoomcamp\\lib\\site-packages (from bentoml) (2.2.0)\n",
      "Requirement already satisfied: schema in c:\\users\\hoe\\anaconda3\\envs\\ml-zoomcamp\\lib\\site-packages (from bentoml) (0.7.5)\n",
      "Requirement already satisfied: opentelemetry-api==1.9.0 in c:\\users\\hoe\\anaconda3\\envs\\ml-zoomcamp\\lib\\site-packages (from bentoml) (1.9.0)\n",
      "Requirement already satisfied: PyYAML>=5.0 in c:\\users\\hoe\\anaconda3\\envs\\ml-zoomcamp\\lib\\site-packages (from bentoml) (6.0)\n",
      "Requirement already satisfied: opentelemetry-semantic-conventions==0.28b0 in c:\\users\\hoe\\anaconda3\\envs\\ml-zoomcamp\\lib\\site-packages (from bentoml) (0.28b0)\n",
      "Requirement already satisfied: numpy in c:\\users\\hoe\\anaconda3\\envs\\ml-zoomcamp\\lib\\site-packages (from bentoml) (1.23.3)\n",
      "Requirement already satisfied: exceptiongroup in c:\\users\\hoe\\anaconda3\\envs\\ml-zoomcamp\\lib\\site-packages (from bentoml) (1.0.0rc9)\n",
      "Requirement already satisfied: simple-di>=0.1.4 in c:\\users\\hoe\\anaconda3\\envs\\ml-zoomcamp\\lib\\site-packages (from bentoml) (0.1.5)\n",
      "Requirement already satisfied: opentelemetry-sdk==1.9.0 in c:\\users\\hoe\\anaconda3\\envs\\ml-zoomcamp\\lib\\site-packages (from bentoml) (1.9.0)\n",
      "Requirement already satisfied: uvicorn in c:\\users\\hoe\\anaconda3\\envs\\ml-zoomcamp\\lib\\site-packages (from bentoml) (0.19.0)\n",
      "Requirement already satisfied: opentelemetry-util-http==0.28b0 in c:\\users\\hoe\\anaconda3\\envs\\ml-zoomcamp\\lib\\site-packages (from bentoml) (0.28b0)\n",
      "Requirement already satisfied: python-dotenv>=0.20.0 in c:\\users\\hoe\\anaconda3\\envs\\ml-zoomcamp\\lib\\site-packages (from bentoml) (0.21.0)\n",
      "Requirement already satisfied: aiohttp<=3.8.1 in c:\\users\\hoe\\anaconda3\\envs\\ml-zoomcamp\\lib\\site-packages (from bentoml) (3.8.1)\n",
      "Requirement already satisfied: deepmerge in c:\\users\\hoe\\anaconda3\\envs\\ml-zoomcamp\\lib\\site-packages (from bentoml) (1.0.1)\n",
      "Requirement already satisfied: setuptools>=16.0 in c:\\users\\hoe\\anaconda3\\envs\\ml-zoomcamp\\lib\\site-packages (from opentelemetry-api==1.9.0->bentoml) (63.4.1)\n",
      "Requirement already satisfied: Deprecated>=1.2.6 in c:\\users\\hoe\\anaconda3\\envs\\ml-zoomcamp\\lib\\site-packages (from opentelemetry-api==1.9.0->bentoml) (1.2.13)\n",
      "Requirement already satisfied: wrapt<2.0.0,>=1.0.0 in c:\\users\\hoe\\anaconda3\\envs\\ml-zoomcamp\\lib\\site-packages (from opentelemetry-instrumentation==0.28b0->bentoml) (1.14.1)\n",
      "Requirement already satisfied: asgiref~=3.0 in c:\\users\\hoe\\anaconda3\\envs\\ml-zoomcamp\\lib\\site-packages (from opentelemetry-instrumentation-asgi==0.28b0->bentoml) (3.5.2)\n",
      "Requirement already satisfied: async-timeout<5.0,>=4.0.0a3 in c:\\users\\hoe\\anaconda3\\envs\\ml-zoomcamp\\lib\\site-packages (from aiohttp<=3.8.1->bentoml) (4.0.2)\n",
      "Requirement already satisfied: charset-normalizer<3.0,>=2.0 in c:\\users\\hoe\\anaconda3\\envs\\ml-zoomcamp\\lib\\site-packages (from aiohttp<=3.8.1->bentoml) (2.1.1)\n",
      "Requirement already satisfied: frozenlist>=1.1.1 in c:\\users\\hoe\\anaconda3\\envs\\ml-zoomcamp\\lib\\site-packages (from aiohttp<=3.8.1->bentoml) (1.3.1)\n",
      "Requirement already satisfied: yarl<2.0,>=1.0 in c:\\users\\hoe\\anaconda3\\envs\\ml-zoomcamp\\lib\\site-packages (from aiohttp<=3.8.1->bentoml) (1.7.2)\n",
      "Requirement already satisfied: aiosignal>=1.1.2 in c:\\users\\hoe\\anaconda3\\envs\\ml-zoomcamp\\lib\\site-packages (from aiohttp<=3.8.1->bentoml) (1.2.0)\n",
      "Requirement already satisfied: multidict<7.0,>=4.5 in c:\\users\\hoe\\anaconda3\\envs\\ml-zoomcamp\\lib\\site-packages (from aiohttp<=3.8.1->bentoml) (6.0.2)\n",
      "Requirement already satisfied: colorama in c:\\users\\hoe\\anaconda3\\envs\\ml-zoomcamp\\lib\\site-packages (from click>=7.0->bentoml) (0.4.5)\n",
      "Requirement already satisfied: MarkupSafe>=2.0 in c:\\users\\hoe\\anaconda3\\envs\\ml-zoomcamp\\lib\\site-packages (from Jinja2>=3.0.1->bentoml) (2.1.1)\n",
      "Requirement already satisfied: pyparsing!=3.0.5,>=2.0.2 in c:\\users\\hoe\\anaconda3\\envs\\ml-zoomcamp\\lib\\site-packages (from packaging>=20.0->bentoml) (3.0.9)\n",
      "Requirement already satisfied: wheel in c:\\users\\hoe\\anaconda3\\envs\\ml-zoomcamp\\lib\\site-packages (from pip-tools>=6.6.2->bentoml) (0.37.1)\n",
      "Requirement already satisfied: pep517 in c:\\users\\hoe\\anaconda3\\envs\\ml-zoomcamp\\lib\\site-packages (from pip-tools>=6.6.2->bentoml) (0.12.0)\n",
      "Requirement already satisfied: pip>=21.2 in c:\\users\\hoe\\anaconda3\\envs\\ml-zoomcamp\\lib\\site-packages (from pip-tools>=6.6.2->bentoml) (22.2.2)\n",
      "Requirement already satisfied: pygments<3.0.0,>=2.6.0 in c:\\users\\hoe\\anaconda3\\envs\\ml-zoomcamp\\lib\\site-packages (from rich>=11.2.0->bentoml) (2.13.0)\n",
      "Requirement already satisfied: commonmark<0.10.0,>=0.9.0 in c:\\users\\hoe\\anaconda3\\envs\\ml-zoomcamp\\lib\\site-packages (from rich>=11.2.0->bentoml) (0.9.1)\n",
      "Requirement already satisfied: pyzmq>=17.0 in c:\\users\\hoe\\anaconda3\\envs\\ml-zoomcamp\\lib\\site-packages (from circus->bentoml) (23.2.1)\n",
      "Requirement already satisfied: tornado>=5.0.2 in c:\\users\\hoe\\anaconda3\\envs\\ml-zoomcamp\\lib\\site-packages (from circus->bentoml) (6.2)\n",
      "Requirement already satisfied: pytz in c:\\users\\hoe\\anaconda3\\envs\\ml-zoomcamp\\lib\\site-packages (from fs->bentoml) (2022.5)\n",
      "Requirement already satisfied: six~=1.10 in c:\\users\\hoe\\anaconda3\\envs\\ml-zoomcamp\\lib\\site-packages (from fs->bentoml) (1.16.0)\n",
      "Requirement already satisfied: appdirs~=1.4.3 in c:\\users\\hoe\\anaconda3\\envs\\ml-zoomcamp\\lib\\site-packages (from fs->bentoml) (1.4.4)\n",
      "Requirement already satisfied: certifi>=2017.4.17 in c:\\users\\hoe\\anaconda3\\envs\\ml-zoomcamp\\lib\\site-packages (from requests->bentoml) (2022.9.24)\n",
      "Requirement already satisfied: idna<4,>=2.5 in c:\\users\\hoe\\anaconda3\\envs\\ml-zoomcamp\\lib\\site-packages (from requests->bentoml) (3.4)\n",
      "Requirement already satisfied: urllib3<1.27,>=1.21.1 in c:\\users\\hoe\\anaconda3\\envs\\ml-zoomcamp\\lib\\site-packages (from requests->bentoml) (1.26.11)\n",
      "Requirement already satisfied: contextlib2>=0.5.5 in c:\\users\\hoe\\anaconda3\\envs\\ml-zoomcamp\\lib\\site-packages (from schema->bentoml) (0.5.5)\n",
      "Requirement already satisfied: anyio<5,>=3.4.0 in c:\\users\\hoe\\anaconda3\\envs\\ml-zoomcamp\\lib\\site-packages (from starlette->bentoml) (3.6.2)\n",
      "Requirement already satisfied: h11>=0.8 in c:\\users\\hoe\\anaconda3\\envs\\ml-zoomcamp\\lib\\site-packages (from uvicorn->bentoml) (0.14.0)\n",
      "Requirement already satisfied: sniffio>=1.1 in c:\\users\\hoe\\anaconda3\\envs\\ml-zoomcamp\\lib\\site-packages (from anyio<5,>=3.4.0->starlette->bentoml) (1.3.0)\n",
      "Requirement already satisfied: tomli>=1.1.0 in c:\\users\\hoe\\anaconda3\\envs\\ml-zoomcamp\\lib\\site-packages (from pep517->pip-tools>=6.6.2->bentoml) (2.0.1)\n"
     ]
    }
   ],
   "source": [
    "!pip install bentoml"
   ]
  },
  {
   "cell_type": "code",
   "execution_count": 13,
   "id": "64a0e8d5",
   "metadata": {},
   "outputs": [
    {
     "name": "stdout",
     "output_type": "stream",
     "text": [
      "bentoml, version 1.0.0\n"
     ]
    }
   ],
   "source": [
    "!bentoml --version"
   ]
  },
  {
   "cell_type": "markdown",
   "id": "a6a96b8c",
   "metadata": {},
   "source": [
    "### Question 2\n",
    "\n",
    "Run the notebook which contains random forest model from module 6 i.e previous module and save the model with BentoML. To make it easier for you we have prepared this notebook.\n",
    "\n",
    "How big approximately is the saved BentoML model? Size can slightly vary depending on your local development environment. Choose the size closest to your model.\n",
    "\n",
    "* 924kb\n",
    "* 724kb\n",
    "* 114kb\n",
    "* 8kb\n"
   ]
  },
  {
   "cell_type": "code",
   "execution_count": 14,
   "id": "f70218ae",
   "metadata": {},
   "outputs": [],
   "source": [
    "import bentoml"
   ]
  },
  {
   "cell_type": "code",
   "execution_count": 16,
   "id": "6905aca0",
   "metadata": {},
   "outputs": [
    {
     "data": {
      "text/plain": [
       "Model(tag=\"random_forest_model:zyglkmkqek6avugg\", path=\"C:\\Users\\Hoe\\bentoml\\models\\random_forest_model\\zyglkmkqek6avugg\\\")"
      ]
     },
     "execution_count": 16,
     "metadata": {},
     "output_type": "execute_result"
    }
   ],
   "source": [
    "bentoml.sklearn.save_model(\"random_forest_model\", rf)"
   ]
  },
  {
   "cell_type": "code",
   "execution_count": 22,
   "id": "4727091e",
   "metadata": {
    "scrolled": true
   },
   "outputs": [
    {
     "name": "stdout",
     "output_type": "stream",
     "text": [
      " Volume in drive C is OS\n",
      " Volume Serial Number is 9AE6-88EA\n",
      "\n",
      " Directory of C:\\Users\\Hoe\\bentoml\\models\\random_forest_model\\zyglkmkqek6avugg\n",
      "\n",
      "20/10/2022  10:56 AM    <DIR>          .\n",
      "20/10/2022  10:56 AM    <DIR>          ..\n",
      "20/10/2022  10:56 AM               353 model.yaml\n",
      "20/10/2022  10:56 AM         5,792,512 saved_model.pkl\n",
      "               2 File(s)      5,792,865 bytes\n",
      "               2 Dir(s)  149,069,045,760 bytes free\n"
     ]
    }
   ],
   "source": [
    "!dir C:\\Users\\Hoe\\bentoml\\models\\random_forest_model\\zyglkmkqek6avugg"
   ]
  },
  {
   "cell_type": "markdown",
   "id": "0ef328cf",
   "metadata": {},
   "source": [
    "### Question 3\n",
    "\n",
    "Say you have the following data that you're sending to your service:\n",
    "\n",
    "{\n",
    "  \"name\": \"Tim\",\n",
    "  \"age\": 37,\n",
    "  \"country\": \"US\",\n",
    "  \"rating\": 3.14\n",
    "}\n",
    "\n",
    "What would the pydantic class look like? You can name the class UserProfile."
   ]
  },
  {
   "cell_type": "code",
   "execution_count": 25,
   "id": "38c81cc4",
   "metadata": {},
   "outputs": [
    {
     "name": "stdout",
     "output_type": "stream",
     "text": [
      "Collecting pydantic\n",
      "  Downloading pydantic-1.10.2-cp310-cp310-win_amd64.whl (2.1 MB)\n",
      "     ---------------------------------------- 2.1/2.1 MB 9.5 MB/s eta 0:00:00\n",
      "Requirement already satisfied: typing-extensions>=4.1.0 in c:\\users\\hoe\\anaconda3\\envs\\ml-zoomcamp\\lib\\site-packages (from pydantic) (4.4.0)\n",
      "Installing collected packages: pydantic\n",
      "Successfully installed pydantic-1.10.2\n"
     ]
    }
   ],
   "source": [
    "!pip install pydantic"
   ]
  },
  {
   "cell_type": "code",
   "execution_count": 27,
   "id": "3f28d700",
   "metadata": {},
   "outputs": [],
   "source": [
    "from pydantic import BaseModel\n",
    "\n",
    "class UserProfile(BaseModel):\n",
    "    name: str\n",
    "    age: int\n",
    "    country: str\n",
    "    rating: float"
   ]
  },
  {
   "cell_type": "markdown",
   "id": "120e4ac5",
   "metadata": {},
   "source": [
    "### Question 4\n",
    "\n",
    "We've prepared a model for you that you can import using:\n",
    "\n",
    "* curl -O https://s3.us-west-2.amazonaws.com/bentoml.com/mlzoomcamp/coolmodel.bentomodel\n",
    "* bentoml models import coolmodel.bentomodel"
   ]
  },
  {
   "cell_type": "code",
   "execution_count": 28,
   "id": "eee0c595",
   "metadata": {},
   "outputs": [
    {
     "name": "stderr",
     "output_type": "stream",
     "text": [
      "  % Total    % Received % Xferd  Average Speed   Time    Time     Time  Current\n",
      "                                 Dload  Upload   Total   Spent    Left  Speed\n",
      "\n",
      "  0     0    0     0    0     0      0      0 --:--:-- --:--:-- --:--:--     0\n",
      "  0     0    0     0    0     0      0      0 --:--:-- --:--:-- --:--:--     0\n",
      "  0     0    0     0    0     0      0      0 --:--:--  0:00:01 --:--:--     0\n",
      "100  1724  100  1724    0     0    707      0  0:00:02  0:00:02 --:--:--   707\n",
      "100  1724  100  1724    0     0    707      0  0:00:02  0:00:02 --:--:--   707\n"
     ]
    }
   ],
   "source": [
    "!curl -O https://s3.us-west-2.amazonaws.com/bentoml.com/mlzoomcamp/coolmodel.bentomodel"
   ]
  },
  {
   "cell_type": "code",
   "execution_count": 29,
   "id": "dd58f5c3",
   "metadata": {},
   "outputs": [
    {
     "name": "stdout",
     "output_type": "stream",
     "text": [
      "Model(tag=\"mlzoomcamp_homework:qtzdz3slg6mwwdu5\") imported\n"
     ]
    }
   ],
   "source": [
    "!bentoml models import coolmodel.bentomodel"
   ]
  },
  {
   "cell_type": "code",
   "execution_count": 31,
   "id": "34dc3451",
   "metadata": {},
   "outputs": [
    {
     "name": "stdout",
     "output_type": "stream",
     "text": [
      " Tag                            Module           Size      Creation Time       \n",
      " random_forest_model:zyglkmkq���  bentoml.sklearn  5.52 MiB  2022-10-20 10:56:33 \n",
      " mlzoomcamp_homework:qtzdz3sl���  bentoml.sklearn  5.79 KiB  2022-10-14 04:42:14 \n"
     ]
    }
   ],
   "source": [
    "!bentoml models list"
   ]
  },
  {
   "cell_type": "code",
   "execution_count": 32,
   "id": "b4c5cf5b",
   "metadata": {
    "scrolled": true
   },
   "outputs": [
    {
     "name": "stdout",
     "output_type": "stream",
     "text": [
      "name: mlzoomcamp_homework                                                      \n",
      "version: qtzdz3slg6mwwdu5                                                      \n",
      "module: bentoml.sklearn                                                        \n",
      "labels: {}                                                                     \n",
      "options: {}                                                                    \n",
      "metadata: {}                                                                   \n",
      "context:                                                                       \n",
      "  framework_name: sklearn                                                      \n",
      "  framework_versions:                                                          \n",
      "    scikit-learn: 1.1.1                                                        \n",
      "  bentoml_version: 1.0.7                                                       \n",
      "  python_version: 3.9.12                                                       \n",
      "signatures:                                                                    \n",
      "  predict:                                                                     \n",
      "    batchable: false                                                           \n",
      "api_version: v1                                                                \n",
      "creation_time: '2022-10-13T20:42:14.411084+00:00'                              \n",
      "                                                                               \n"
     ]
    }
   ],
   "source": [
    "!bentoml models get mlzoomcamp_homework:qtzdz3sl"
   ]
  },
  {
   "cell_type": "markdown",
   "id": "5d1d75c3",
   "metadata": {},
   "source": [
    "### Question 5\n",
    "\n",
    "Create a bento out of this scikit-learn model. This will require installing scikit-learn like this:\n",
    "\n",
    "- pip install scikit-learn\n",
    "\n",
    "Hint: The output type for this endpoint should be NumpyNdarray()\n",
    "\n",
    "Send this array to the bento:\n",
    "\n",
    "[[6.4,3.5,4.5,1.2]]\n",
    "\n",
    "You can use curl or the Swagger UI. What value does it return?\n",
    "\n",
    "- 0\n",
    "- 1\n",
    "- 2\n",
    "- 3\n"
   ]
  },
  {
   "cell_type": "code",
   "execution_count": null,
   "id": "f4548e1b",
   "metadata": {},
   "outputs": [],
   "source": [
    "# bentofile.yaml\n",
    "# bentoml build\n",
    "# bentoml containerize mlzoomcamp_model:latest\n",
    "# docker run -it --rm -p 3000:3000 mlzoomcamp_model:2jmj5jsqhoripugg serve --production\"."
   ]
  },
  {
   "cell_type": "markdown",
   "id": "9863d617",
   "metadata": {},
   "source": [
    "### Question 6\n",
    "\n",
    "Ensure to serve your bento with --production for this question\n",
    "\n",
    "Install locust using:\n",
    "\n",
    "- pip install locust\n",
    "\n",
    "Use the following locust file: locustfile.py\n",
    "\n",
    "Ensure that it is pointed at your bento's endpoint (In case you didn't name your endpoint \"classify\")\n",
    "\n",
    "Configure 100 users with ramp time of 10 users per second. Click \"Start Swarming\" and ensure that it is working.\n",
    "\n",
    "Now download a second model with this command:\n",
    "\n",
    "- curl -O https://s3.us-west-2.amazonaws.com/bentoml.com/mlzoomcamp/coolmodel2.bentomodel\n",
    "\n",
    "Or you can download with this link as well: https://s3.us-west-2.amazonaws.com/bentoml.com/mlzoomcamp/coolmodel2.bentomodel\n",
    "\n",
    "Now import the model:\n",
    "\n",
    "bentoml models import coolmodel2.bentomodel\n",
    "\n",
    "Update your bento's runner tag and test with both models. Which model allows more traffic (more throughput) as you ramp up the traffic?\n",
    "\n",
    "Hint 1: Remember to turn off and turn on your bento service between changing the model tag. Use Ctl-C to close the service in between trials.\n",
    "\n",
    "Hint 2: Increase the number of concurrent users to see which one has higher throughput\n",
    "\n",
    "Which model has better performance at higher volumes?\n",
    "\n",
    "    The first model\n",
    "    The second model\n"
   ]
  },
  {
   "cell_type": "code",
   "execution_count": 35,
   "id": "ec8f2ebf",
   "metadata": {},
   "outputs": [
    {
     "name": "stdout",
     "output_type": "stream",
     "text": [
      "Collecting locust\n",
      "  Using cached locust-2.12.2-py3-none-any.whl (823 kB)\n",
      "Collecting gevent>=20.12.1\n",
      "  Downloading gevent-22.10.1-cp310-cp310-win_amd64.whl (1.5 MB)\n",
      "     ---------------------------------------- 1.5/1.5 MB 23.6 MB/s eta 0:00:00\n",
      "Collecting Werkzeug>=2.0.0\n",
      "  Downloading Werkzeug-2.2.2-py3-none-any.whl (232 kB)\n",
      "     ------------------------------------- 232.7/232.7 kB 13.9 MB/s eta 0:00:00\n",
      "Collecting ConfigArgParse>=1.0\n",
      "  Using cached ConfigArgParse-1.5.3-py3-none-any.whl (20 kB)\n",
      "Requirement already satisfied: pyzmq!=23.0.0,>=22.2.1 in c:\\users\\hoe\\anaconda3\\envs\\ml-zoomcamp\\lib\\site-packages (from locust) (23.2.1)\n",
      "Collecting msgpack>=0.6.2\n",
      "  Downloading msgpack-1.0.4-cp310-cp310-win_amd64.whl (61 kB)\n",
      "     ---------------------------------------- 61.3/61.3 kB ? eta 0:00:00\n",
      "Requirement already satisfied: requests>=2.23.0 in c:\\users\\hoe\\anaconda3\\envs\\ml-zoomcamp\\lib\\site-packages (from locust) (2.28.1)\n",
      "Collecting Flask-BasicAuth>=0.2.0\n",
      "  Using cached Flask-BasicAuth-0.2.0.tar.gz (16 kB)\n",
      "  Preparing metadata (setup.py): started\n",
      "  Preparing metadata (setup.py): finished with status 'done'\n",
      "Collecting Flask-Cors>=3.0.10\n",
      "  Using cached Flask_Cors-3.0.10-py2.py3-none-any.whl (14 kB)\n",
      "Collecting roundrobin>=0.0.2\n",
      "  Using cached roundrobin-0.0.4.tar.gz (3.4 kB)\n",
      "  Preparing metadata (setup.py): started\n",
      "  Preparing metadata (setup.py): finished with status 'done'\n",
      "Collecting flask>=2.0.0\n",
      "  Downloading Flask-2.2.2-py3-none-any.whl (101 kB)\n",
      "     ---------------------------------------- 101.5/101.5 kB ? eta 0:00:00\n",
      "Requirement already satisfied: typing-extensions>=3.7.4.3 in c:\\users\\hoe\\anaconda3\\envs\\ml-zoomcamp\\lib\\site-packages (from locust) (4.4.0)\n",
      "Collecting geventhttpclient>=2.0.2\n",
      "  Downloading geventhttpclient-2.0.8-cp310-cp310-win_amd64.whl (39 kB)\n",
      "Requirement already satisfied: pywin32 in c:\\users\\hoe\\anaconda3\\envs\\ml-zoomcamp\\lib\\site-packages (from locust) (302)\n",
      "Requirement already satisfied: psutil>=5.6.7 in c:\\users\\hoe\\anaconda3\\envs\\ml-zoomcamp\\lib\\site-packages (from locust) (5.9.1)\n",
      "Requirement already satisfied: click>=8.0 in c:\\users\\hoe\\anaconda3\\envs\\ml-zoomcamp\\lib\\site-packages (from flask>=2.0.0->locust) (8.1.3)\n",
      "Collecting itsdangerous>=2.0\n",
      "  Using cached itsdangerous-2.1.2-py3-none-any.whl (15 kB)\n",
      "Requirement already satisfied: Jinja2>=3.0 in c:\\users\\hoe\\anaconda3\\envs\\ml-zoomcamp\\lib\\site-packages (from flask>=2.0.0->locust) (3.1.2)\n",
      "Requirement already satisfied: Six in c:\\users\\hoe\\anaconda3\\envs\\ml-zoomcamp\\lib\\site-packages (from Flask-Cors>=3.0.10->locust) (1.16.0)\n",
      "Collecting zope.event\n",
      "  Using cached zope.event-4.5.0-py2.py3-none-any.whl (6.8 kB)\n",
      "Collecting greenlet<2.0,>=1.1.3\n",
      "  Downloading greenlet-1.1.3.post0-cp310-cp310-win_amd64.whl (101 kB)\n",
      "     ---------------------------------------- 101.9/101.9 kB ? eta 0:00:00\n",
      "Requirement already satisfied: setuptools in c:\\users\\hoe\\anaconda3\\envs\\ml-zoomcamp\\lib\\site-packages (from gevent>=20.12.1->locust) (63.4.1)\n",
      "Collecting zope.interface\n",
      "  Downloading zope.interface-5.5.0-cp310-cp310-win_amd64.whl (211 kB)\n",
      "     ------------------------------------- 211.6/211.6 kB 12.6 MB/s eta 0:00:00\n",
      "Requirement already satisfied: cffi>=1.12.2 in c:\\users\\hoe\\anaconda3\\envs\\ml-zoomcamp\\lib\\site-packages (from gevent>=20.12.1->locust) (1.15.1)\n",
      "Requirement already satisfied: certifi in c:\\users\\hoe\\anaconda3\\envs\\ml-zoomcamp\\lib\\site-packages (from geventhttpclient>=2.0.2->locust) (2022.9.24)\n",
      "Collecting brotli\n",
      "  Downloading Brotli-1.0.9-cp310-cp310-win_amd64.whl (383 kB)\n",
      "     ------------------------------------- 383.3/383.3 kB 23.3 MB/s eta 0:00:00\n",
      "Requirement already satisfied: urllib3<1.27,>=1.21.1 in c:\\users\\hoe\\anaconda3\\envs\\ml-zoomcamp\\lib\\site-packages (from requests>=2.23.0->locust) (1.26.11)\n",
      "Requirement already satisfied: idna<4,>=2.5 in c:\\users\\hoe\\anaconda3\\envs\\ml-zoomcamp\\lib\\site-packages (from requests>=2.23.0->locust) (3.4)\n",
      "Requirement already satisfied: charset-normalizer<3,>=2 in c:\\users\\hoe\\anaconda3\\envs\\ml-zoomcamp\\lib\\site-packages (from requests>=2.23.0->locust) (2.1.1)\n",
      "Requirement already satisfied: MarkupSafe>=2.1.1 in c:\\users\\hoe\\anaconda3\\envs\\ml-zoomcamp\\lib\\site-packages (from Werkzeug>=2.0.0->locust) (2.1.1)\n",
      "Requirement already satisfied: pycparser in c:\\users\\hoe\\anaconda3\\envs\\ml-zoomcamp\\lib\\site-packages (from cffi>=1.12.2->gevent>=20.12.1->locust) (2.21)\n",
      "Requirement already satisfied: colorama in c:\\users\\hoe\\anaconda3\\envs\\ml-zoomcamp\\lib\\site-packages (from click>=8.0->flask>=2.0.0->locust) (0.4.5)\n",
      "Building wheels for collected packages: Flask-BasicAuth, roundrobin\n",
      "  Building wheel for Flask-BasicAuth (setup.py): started\n",
      "  Building wheel for Flask-BasicAuth (setup.py): finished with status 'done'\n",
      "  Created wheel for Flask-BasicAuth: filename=Flask_BasicAuth-0.2.0-py3-none-any.whl size=4242 sha256=8b082f49b1102c1ac42fdd4e9b82c32addc405188c498187f099d6124ad09fbb\n",
      "  Stored in directory: c:\\users\\hoe\\appdata\\local\\pip\\cache\\wheels\\2c\\96\\a5\\54f6f7fa880f487e2f6c52cc9943d3299272a956cbd5af3b8c\n",
      "  Building wheel for roundrobin (setup.py): started\n",
      "  Building wheel for roundrobin (setup.py): finished with status 'done'\n",
      "  Created wheel for roundrobin: filename=roundrobin-0.0.4-py3-none-any.whl size=4017 sha256=2daa74565d608bd51c71bbdb86798088d42191924a702996c5ca704d3f0b86d2\n",
      "  Stored in directory: c:\\users\\hoe\\appdata\\local\\pip\\cache\\wheels\\c2\\e8\\10\\b6204cb43ae923e4f51bb5c5aee3a143ca632b3d8c0b64c078\n",
      "Successfully built Flask-BasicAuth roundrobin\n",
      "Installing collected packages: roundrobin, msgpack, brotli, zope.interface, zope.event, Werkzeug, itsdangerous, greenlet, ConfigArgParse, gevent, flask, geventhttpclient, Flask-Cors, Flask-BasicAuth, locust\n",
      "Successfully installed ConfigArgParse-1.5.3 Flask-BasicAuth-0.2.0 Flask-Cors-3.0.10 Werkzeug-2.2.2 brotli-1.0.9 flask-2.2.2 gevent-22.10.1 geventhttpclient-2.0.8 greenlet-1.1.3.post0 itsdangerous-2.1.2 locust-2.12.2 msgpack-1.0.4 roundrobin-0.0.4 zope.event-4.5.0 zope.interface-5.5.0\n"
     ]
    }
   ],
   "source": [
    "!pip3 install locust"
   ]
  },
  {
   "cell_type": "code",
   "execution_count": 39,
   "id": "3383477a",
   "metadata": {
    "scrolled": true
   },
   "outputs": [
    {
     "name": "stderr",
     "output_type": "stream",
     "text": [
      "  % Total    % Received % Xferd  Average Speed   Time    Time     Time  Current\n",
      "                                 Dload  Upload   Total   Spent    Left  Speed\n",
      "\n",
      "  0     0    0     0    0     0      0      0 --:--:-- --:--:-- --:--:--     0\n",
      "100  1728  100  1728    0     0   1717      0  0:00:01  0:00:01 --:--:--  1717\n",
      "100  1728  100  1728    0     0   1715      0  0:00:01  0:00:01 --:--:--  1715\n"
     ]
    }
   ],
   "source": [
    "!curl -O https://s3.us-west-2.amazonaws.com/bentoml.com/mlzoomcamp/coolmodel2.bentomodel"
   ]
  },
  {
   "cell_type": "code",
   "execution_count": null,
   "id": "d64805ae",
   "metadata": {},
   "outputs": [],
   "source": [
    "#Model 1\n",
    "\n",
    "#bentoml models import coolmodel.bentomodel\n",
    "#mlzoomcamp_homework:qtzdz3slg6mwwdu5\n",
    "\n",
    "#bentoml models import coolmodel2.bentomodel\n",
    "#mlzoomcamp_homework:jsi67fslz6txydu5"
   ]
  },
  {
   "cell_type": "code",
   "execution_count": null,
   "id": "9388a197",
   "metadata": {},
   "outputs": [],
   "source": []
  },
  {
   "cell_type": "markdown",
   "id": "eaf5b281",
   "metadata": {},
   "source": [
    "### XGBoost\n",
    "\n",
    "Note:\n",
    "\n",
    "We removed feature names\n",
    "\n",
    "It was \n",
    "\n",
    "```python\n",
    "features = dv.get_feature_names_out()\n",
    "dtrain = xgb.DMatrix(X_train, label=y_train, feature_names=features)\n",
    "```\n",
    "\n",
    "Now it's\n",
    "\n",
    "```python\n",
    "dtrain = xgb.DMatrix(X_train, label=y_train)\n",
    "```"
   ]
  },
  {
   "cell_type": "code",
   "execution_count": 7,
   "id": "c9933723",
   "metadata": {},
   "outputs": [],
   "source": [
    "dtrain = xgb.DMatrix(X_train, label=y_train)"
   ]
  },
  {
   "cell_type": "code",
   "execution_count": 8,
   "id": "9f6035e6",
   "metadata": {},
   "outputs": [],
   "source": [
    "xgb_params = {\n",
    "    'eta': 0.1, \n",
    "    'max_depth': 3,\n",
    "    'min_child_weight': 1,\n",
    "\n",
    "    'objective': 'binary:logistic',\n",
    "    'eval_metric': 'auc',\n",
    "\n",
    "    'nthread': 8,\n",
    "    'seed': 1,\n",
    "    'verbosity': 1,\n",
    "}\n",
    "\n",
    "model = xgb.train(xgb_params, dtrain, num_boost_round=175)"
   ]
  },
  {
   "cell_type": "markdown",
   "id": "cfe594d0",
   "metadata": {},
   "source": [
    "### BentoML"
   ]
  },
  {
   "cell_type": "code",
   "execution_count": 9,
   "id": "1c82033b",
   "metadata": {},
   "outputs": [],
   "source": [
    "import bentoml"
   ]
  },
  {
   "cell_type": "code",
   "execution_count": 10,
   "id": "8f06dc6a",
   "metadata": {},
   "outputs": [
    {
     "data": {
      "text/plain": [
       "Model(tag=\"credit_risk_model:f4iee2cn5whmqtih\", path=\"/home/alexey/bentoml/models/credit_risk_model/f4iee2cn5whmqtih/\")"
      ]
     },
     "execution_count": 10,
     "metadata": {},
     "output_type": "execute_result"
    }
   ],
   "source": [
    "bentoml.xgboost.save_model(\n",
    "    'credit_risk_model',\n",
    "    model,\n",
    "    custom_objects={\n",
    "        'dictVectorizer': dv\n",
    "    })"
   ]
  },
  {
   "cell_type": "markdown",
   "id": "cf86cfa2",
   "metadata": {},
   "source": [
    "Test"
   ]
  },
  {
   "cell_type": "code",
   "execution_count": 11,
   "id": "c6bba020",
   "metadata": {},
   "outputs": [],
   "source": [
    "import json"
   ]
  },
  {
   "cell_type": "code",
   "execution_count": 12,
   "id": "507304a1",
   "metadata": {},
   "outputs": [
    {
     "name": "stdout",
     "output_type": "stream",
     "text": [
      "{\n",
      "  \"seniority\": 3,\n",
      "  \"home\": \"owner\",\n",
      "  \"time\": 36,\n",
      "  \"age\": 26,\n",
      "  \"marital\": \"single\",\n",
      "  \"records\": \"no\",\n",
      "  \"job\": \"freelance\",\n",
      "  \"expenses\": 35,\n",
      "  \"income\": 0.0,\n",
      "  \"assets\": 60000.0,\n",
      "  \"debt\": 3000.0,\n",
      "  \"amount\": 800,\n",
      "  \"price\": 1000\n",
      "}\n"
     ]
    }
   ],
   "source": [
    "request = df_test.iloc[0].to_dict()\n",
    "print(json.dumps(request, indent=2))"
   ]
  },
  {
   "cell_type": "code",
   "execution_count": null,
   "id": "7b98c016",
   "metadata": {},
   "outputs": [],
   "source": []
  }
 ],
 "metadata": {
  "kernelspec": {
   "display_name": "Python 3",
   "language": "python",
   "name": "python3"
  },
  "language_info": {
   "codemirror_mode": {
    "name": "ipython",
    "version": 3
   },
   "file_extension": ".py",
   "mimetype": "text/x-python",
   "name": "python",
   "nbconvert_exporter": "python",
   "pygments_lexer": "ipython3",
   "version": "3.10.6"
  }
 },
 "nbformat": 4,
 "nbformat_minor": 5
}
